{
 "cells": [
  {
   "cell_type": "code",
   "execution_count": null,
   "metadata": {},
   "outputs": [],
   "source": [
    "%env PATH=~/anaconda3/envs/tesmo/bin/:$PATH\n",
    "%env PYTHONPATH=~/anaconda3/envs/tesmo/lib/python3.8/site-packages/:$PYTHONPATH:\n",
    "from babel_tools import load_motion, load_pelvis_traj\n",
    "import os\n",
    "import sys\n",
    "import numpy as np\n",
    "from pathlib import Path\n",
    "import json\n",
    "from PIL import Image\n",
    "import trimesh\n",
    "from tqdm import tqdm\n",
    "import pandas as pd\n",
    "import random\n",
    "import pickle as pkl\n",
    "import time\n",
    "#from p_tqdm import p_map, p_uimap\n",
    "import glob\n",
    "import matplotlib.pyplot as plt\n",
    "import pickle as pkl\n",
    "import cv2"
   ]
  },
  {
   "cell_type": "code",
   "execution_count": 2,
   "metadata": {},
   "outputs": [],
   "source": [
    "index_path = './dataset/HumanML3D/train_walk_ori_amass_path.txt'\n",
    "filter_sequence = pd.read_csv(index_path, header=None, sep=',')    "
   ]
  },
  {
   "cell_type": "code",
   "execution_count": 3,
   "metadata": {},
   "outputs": [
    {
     "name": "stderr",
     "output_type": "stream",
     "text": [
      "  0%|          | 0/4751 [00:00<?, ?it/s]"
     ]
    },
    {
     "name": "stderr",
     "output_type": "stream",
     "text": [
      "100%|██████████| 4751/4751 [07:35<00:00, 10.44it/s]\n"
     ]
    }
   ],
   "source": [
    "files = [filter_sequence.loc[idx] for idx in range(len(filter_sequence))]\n",
    "amass_dir = './amass_data'\n",
    "ones = []\n",
    "for one in tqdm(files):\n",
    "    npz_file = os.path.join(amass_dir, one[1].replace(' ./pose_data/', '').replace('npy', 'npz')) # remove the space\n",
    "    start_f = one[2]\n",
    "    end_f = one[3]\n",
    "    if os.path.exists(npz_file):\n",
    "        ones.append(one)"
   ]
  },
  {
   "cell_type": "code",
   "execution_count": 4,
   "metadata": {},
   "outputs": [],
   "source": [
    "ones = [one for one in ones if one[3]-one[2]>160]"
   ]
  },
  {
   "cell_type": "code",
   "execution_count": 5,
   "metadata": {},
   "outputs": [
    {
     "name": "stderr",
     "output_type": "stream",
     "text": [
      "100%|██████████| 2228/2228 [11:25<00:00,  3.25it/s]\n"
     ]
    }
   ],
   "source": [
    "orients_traj, trans_traj = [], []\n",
    "orients_traf, trans_traf, velos_traf = [], [], []\n",
    "clip_window = 20\n",
    "fps = 20\n",
    "\n",
    "def cal_velo(trans):\n",
    "    dis_tot = 0.\n",
    "    for i in range(len(trans)-1):\n",
    "        dis_tot += np.linalg.norm(trans[i+1]-trans[i])\n",
    "    return dis_tot / clip_window * fps\n",
    "\n",
    "for one in tqdm(ones):\n",
    "    npz_file = os.path.join(amass_dir, one[1].replace(' ./pose_data/', '').replace('npy', 'npz')) # remove the space\n",
    "    start_f, end_f = one[2], one[3]\n",
    "    orients, trans = load_pelvis_traj(npz_file, start_f, end_f)\n",
    "    orients_traj.append(orients)\n",
    "    trans_traj.append(trans)\n",
    "    n_len = len(orients)\n",
    "    for i in range(0, n_len-1, clip_window):\n",
    "        ei = min(i + clip_window, n_len-1)\n",
    "        si = min(ei-clip_window, i)\n",
    "        if ei - si != clip_window:\n",
    "            continue\n",
    "        orients_clip.append(orients[si:ei+1])\n",
    "        trans_clip.append(trans[si:ei+1])\n",
    "        velos_clip.append(cal_velo(trans_clip[-1]))"
   ]
  },
  {
   "cell_type": "code",
   "execution_count": 44,
   "metadata": {},
   "outputs": [
    {
     "name": "stderr",
     "output_type": "stream",
     "text": [
      "11112it [00:02, 4546.08it/s]\n",
      "2228it [00:02, 948.61it/s]\n"
     ]
    }
   ],
   "source": [
    "def cal_velo(trans):\n",
    "    dis_tot = np.linalg.norm(trans[1:]-trans[:-1], axis=-1).sum()\n",
    "    return dis_tot / clip_window * fps\n",
    "trans_clip_2d = []\n",
    "orients_clip_2d = []\n",
    "rot_clip_2d = []\n",
    "velos_clip_2d = []\n",
    "rots_clip_2d = []\n",
    "dir_clip_2d = []\n",
    "dis_clip_2d = []\n",
    "for trans, orient in tqdm(zip(trans_clip, orients_clip)):\n",
    "    trans_clip_2d.append(trans[:, :2])\n",
    "    rot_vecs = np.array([np.array([[0.,0.,1.]]) @ cv2.Rodrigues(o)[0].T for o in orient])[:, 0, :2]\n",
    "    orients_clip_2d.append(rot_vecs[:, :2])\n",
    "    rots_clip_2d.append(np.arctan2(rot_vecs[:, 1], rot_vecs[:, 0]))\n",
    "    move_vec = trans[1:, :2] - trans[:-1, :2]\n",
    "    dir_clip_2d.append(np.arctan2(move_vec[:, 1], move_vec[:, 0]))\n",
    "    velos_clip_2d.append(cal_velo(trans_clip_2d[-1]))\n",
    "    dis_clip_2d.append(np.linalg.norm(trans[1:]-trans[:-1], axis=-1).cumsum())\n",
    "trans_traj_2d = []\n",
    "orients_traj_2d = []\n",
    "rot_traj_2d = []\n",
    "velos_traj_2d = []\n",
    "rots_traj_2d = []\n",
    "dir_traj_2d = []\n",
    "dis_traj_2d = []\n",
    "for trans, orient in tqdm(zip(trans_traj, orients_traj)):\n",
    "    trans_traj_2d.append(trans[:, :2])\n",
    "    rot_vecs = np.array([np.array([[0.,0.,1.]]) @ cv2.Rodrigues(o)[0].T for o in orient])[:, 0, :2]\n",
    "    orients_traj_2d.append(rot_vecs[:, :2])\n",
    "    rots_traj_2d.append(np.arctan2(rot_vecs[:, 1], rot_vecs[:, 0]))\n",
    "    move_vec = trans[1:, :2] - trans[:-1, :2]\n",
    "    dir_traj_2d.append(np.arctan2(move_vec[:, 1], move_vec[:, 0]))\n",
    "    velos_traj_2d.append(cal_velo(trans[-1]))\n",
    "    dis_traj_2d.append(np.linalg.norm(trans[1:]-trans[:-1], axis=-1).cumsum())"
   ]
  },
  {
   "cell_type": "code",
   "execution_count": null,
   "metadata": {},
   "outputs": [],
   "source": [
    "dir_clip_2d = np.stack(dir_clip_2d)\n",
    "rots_clip_2d = np.stack(rots_clip_2d)\n",
    "dis_clip_2d = np.stack(rots_clip_2d)\n",
    "angle_diff = (dir_clip_2d - rots_clip_2d[:, 1:]) % (np.pi * 2)\n",
    "angle_diff = np.where(angle_diff > np.pi, np.pi * 2 - angle_diff, angle_diff)\n",
    "velos_clip_2d = np.stack(velos_clip_2d)\n",
    "(velos_clip_2d > 0.5).sum()\n",
    "mask = ((angle_diff.max(axis=-1) < 30/180 * np.pi) & (velos_clip_2d > 0.1))\n",
    "with open('../files/motion_clips_db_2s.pkl', 'wb') as f:\n",
    "    pkl.dump(dict(orients_traj=orients_traj, trans_traj=trans_traj, orients_clip=orients_clip, trans_clip=trans_clip, velos_clip=velos_clip, dis_clip_2d=dis_clip_2d), f)"
   ]
  },
  {
   "cell_type": "code",
   "execution_count": 55,
   "metadata": {},
   "outputs": [],
   "source": [
    "with open('../files/motion_clips_db_2d_2s_filtered.pkl', 'wb') as f:\n",
    "    pkl.dump(dict(trans_clip_2d=np.stack(trans_clip_2d)[mask], orients_clip_2d=np.stack(orients_clip_2d)[mask], velos_clip_2d=np.stack(velos_clip_2d)[mask], rots_clip_2d=np.stack(rots_clip_2d)[mask], dis_clip_2d=np.stack(dis_clip_2d)[mask]), f)"
   ]
  },
  {
   "cell_type": "code",
   "execution_count": null,
   "metadata": {},
   "outputs": [],
   "source": [
    "with open('../files/motion_clips_db_2s.pkl', 'rb') as f:\n",
    "    data = pkl.load(f)\n",
    "plt.hist(data['velos_clip'], bins=100)"
   ]
  },
  {
   "cell_type": "code",
   "execution_count": null,
   "metadata": {},
   "outputs": [],
   "source": []
  }
 ],
 "metadata": {
  "kernelspec": {
   "display_name": "humanise",
   "language": "python",
   "name": "python3"
  },
  "language_info": {
   "codemirror_mode": {
    "name": "ipython",
    "version": 3
   },
   "file_extension": ".py",
   "mimetype": "text/x-python",
   "name": "python",
   "nbconvert_exporter": "python",
   "pygments_lexer": "ipython3",
   "version": "3.8.13"
  }
 },
 "nbformat": 4,
 "nbformat_minor": 2
}
